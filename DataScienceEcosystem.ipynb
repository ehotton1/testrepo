{
 "cells": [
  {
   "cell_type": "markdown",
   "id": "c572c18a-3d00-4748-b626-26c89596feae",
   "metadata": {},
   "source": [
    "# Data Science Tools and Ecosystem"
   ]
  },
  {
   "cell_type": "markdown",
   "id": "a46229c1-3b80-4dfb-b4df-9ad56a102d58",
   "metadata": {},
   "source": [
    "In this notebook, Data Science Tools and Ecosystem are summarized."
   ]
  },
  {
   "cell_type": "markdown",
   "id": "49dfe5b9-1712-49cd-b9ec-e4bc1256efa8",
   "metadata": {},
   "source": [
    "**Objectives:**\n",
    "* List examples of Open Source, Commercial, and Cloud-based tools in various categories\n",
    "* Identify the users and benefits of Python\n",
    "* Identify the users and uses of the R language\n",
    "* List examples of the various libraries: scientific, visualization, machine learning, and deep learning\n",
    "* Describe the basic Jupyter architecture"
   ]
  },
  {
   "cell_type": "markdown",
   "id": "893a2af3-15cd-4142-acc3-68e032d9e5a8",
   "metadata": {},
   "source": [
    "## Author\n",
    "Eric Hotton"
   ]
  },
  {
   "cell_type": "markdown",
   "id": "015c5e9e-e71a-4a27-b1d5-dbf23dd577b2",
   "metadata": {},
   "source": [
    "Some of the popular languages that Data Scientists use are:\n",
    "1. Python\n",
    "2. R\n",
    "3. Julia"
   ]
  },
  {
   "cell_type": "markdown",
   "id": "ebb18063-42d9-47b9-ae7c-f086240222d8",
   "metadata": {},
   "source": [
    "Some of the commonly used libraries used by Data Scientists include:\n",
    "1. Pandas\n",
    "2. Matplotlib\n",
    "3. Scikit-learn"
   ]
  },
  {
   "cell_type": "markdown",
   "id": "7a763aab-434e-4a64-8387-7677dafdba55",
   "metadata": {},
   "source": [
    "|Data Science Tools|\n",
    "|------------------|\n",
    "|Jupyter Notebooks|\n",
    "|RStudio|\n",
    "|Visual Studio Code|"
   ]
  },
  {
   "cell_type": "markdown",
   "id": "be2a7934-d98a-42d0-a2ac-7aaf1600af58",
   "metadata": {},
   "source": [
    "### Below are a few examples of evaluating arithmetic expressions in Python"
   ]
  },
  {
   "cell_type": "code",
   "execution_count": 1,
   "id": "d1aa4789-0e10-42a4-b9ac-12154b351649",
   "metadata": {
    "tags": []
   },
   "outputs": [
    {
     "data": {
      "text/plain": [
       "17"
      ]
     },
     "execution_count": 1,
     "metadata": {},
     "output_type": "execute_result"
    }
   ],
   "source": [
    "# This a simple arithmetic expression to mutiply then add integers\n",
    "(3*4)+5"
   ]
  },
  {
   "cell_type": "code",
   "execution_count": 2,
   "id": "fc7861b2-e5ac-4ca1-a494-84495e322829",
   "metadata": {
    "tags": []
   },
   "outputs": [
    {
     "data": {
      "text/plain": [
       "3.3333333333333335"
      ]
     },
     "execution_count": 2,
     "metadata": {},
     "output_type": "execute_result"
    }
   ],
   "source": [
    "# This will convert 200 minutes to hours by diving by 60\n",
    "200/60"
   ]
  },
  {
   "cell_type": "code",
   "execution_count": null,
   "id": "dba5c864-83b8-4805-a349-4246ba662922",
   "metadata": {},
   "outputs": [],
   "source": []
  }
 ],
 "metadata": {
  "kernelspec": {
   "display_name": "Python",
   "language": "python",
   "name": "conda-env-python-py"
  },
  "language_info": {
   "codemirror_mode": {
    "name": "ipython",
    "version": 3
   },
   "file_extension": ".py",
   "mimetype": "text/x-python",
   "name": "python",
   "nbconvert_exporter": "python",
   "pygments_lexer": "ipython3",
   "version": "3.7.12"
  }
 },
 "nbformat": 4,
 "nbformat_minor": 5
}
